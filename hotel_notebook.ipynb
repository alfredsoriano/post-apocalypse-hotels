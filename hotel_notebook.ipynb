{
  "nbformat": 4,
  "nbformat_minor": 0,
  "metadata": {
    "colab": {
      "provenance": []
    },
    "kernelspec": {
      "name": "python3",
      "display_name": "Python 3"
    },
    "language_info": {
      "name": "python"
    }
  },
  "cells": [
    {
      "cell_type": "code",
      "source": [
        "# IMPORT LIBRARIES --------------------------------------------------------\n",
        "import pandas as pd\n",
        "pd.options.mode.chained_assignment = None\n",
        "import folium\n",
        "from folium import plugins\n",
        "from folium.plugins import HeatMap\n",
        "from sklearn.cluster import DBSCAN"
      ],
      "metadata": {
        "id": "NmErJ41AEehf"
      },
      "execution_count": null,
      "outputs": []
    },
    {
      "cell_type": "code",
      "source": [
        "# LOAD DATASET AND PREPROCSSING --------------------------------------------------------\n",
        "# Note that most of the data cleaning is done via KNIME.\n",
        "\n",
        "# read in .csv file and create a dataframe\n",
        "df = pd.read_csv('us_hotels.csv', low_memory=False)\n",
        "\n",
        "# drop rows with missing attribute (NaN value)\n",
        "df = df.dropna()\n",
        "\n",
        "print(df.head(7))\n",
        "print(f\"\\nTotal number of unique hotels: {len(df)}\")"
      ],
      "metadata": {
        "id": "UzJA1Xa5X9WX"
      },
      "execution_count": null,
      "outputs": []
    },
    {
      "cell_type": "code",
      "source": [
        "# SIMPLE FOLIUM VISUALIZATION --------------------------------------------------------\n",
        "\n",
        "# initialize a map in the middle of the United States\n",
        "df_map = folium.Map(location=[39.8097343, -98.5556199], zoom_start=3)\n",
        "\n",
        "# plot points\n",
        "for index, row in df.iterrows():\n",
        "\n",
        "    folium.CircleMarker(\n",
        "        location=[row['Latitude'], row['Longitude']],\n",
        "        radius=1,\n",
        "        scale_radius=True,\n",
        "    ).add_to(df_map)\n",
        "\n",
        "display(df_map)"
      ],
      "metadata": {
        "id": "Ic3VYSrJ3hsX"
      },
      "execution_count": null,
      "outputs": []
    },
    {
      "cell_type": "code",
      "source": [
        "# RATINGS VISUALIZATION --------------------------------------------------------\n",
        "\n",
        "# initialize a map in the middle of the United States\n",
        "df_map = folium.Map(location=[39.8097343, -98.5556199], zoom_start=3)\n",
        "\n",
        "# plot points\n",
        "for index, row in df.iterrows():\n",
        "\n",
        "  # color points based on hotel rating\n",
        "  if row['HotelRating'] <= 1:\n",
        "      color = 'red'\n",
        "  elif ((row['HotelRating'] > 1.1) and (row['HotelRating'] <= 2)):\n",
        "      color = 'orange'\n",
        "  elif ((row['HotelRating'] > 2.1) and (row['HotelRating'] <= 3)):\n",
        "      color = 'yellow'\n",
        "  elif ((row['HotelRating'] > 3.1) and (row['HotelRating'] <= 4)):\n",
        "      color = 'limegreen'\n",
        "  else:\n",
        "      color = 'green'\n",
        "\n",
        "\n",
        "  folium.CircleMarker(\n",
        "      location=[row['Latitude'], row['Longitude']],\n",
        "      radius=2,\n",
        "      scale_radius=True,\n",
        "      color=color,\n",
        "  ).add_to(df_map)\n",
        "\n",
        "display(df_map)"
      ],
      "metadata": {
        "id": "CzfZJknzr3Sh"
      },
      "execution_count": null,
      "outputs": []
    },
    {
      "cell_type": "code",
      "source": [
        "# HEATMAP FOLIUM VISUALIZATION --------------------------------------------------------\n",
        "\n",
        "# initialize a map in the middle of the United States\n",
        "heatmap = folium.Map(location=[39.8097343, -98.5556199], zoom_start=3)\n",
        "\n",
        "heat_data = [[row['Latitude'],row['Longitude']] for index, row in df.iterrows()]\n",
        "\n",
        "# plot points\n",
        "HeatMap(data=heat_data,\n",
        "        radius=11,\n",
        "        blur=5,\n",
        "        min_opacity=0.15,\n",
        "        ).add_to(heatmap)\n",
        "\n",
        "display(heatmap)"
      ],
      "metadata": {
        "id": "ufu035TLtloM"
      },
      "execution_count": null,
      "outputs": []
    },
    {
      "cell_type": "code",
      "source": [
        "# CLUSTERING --------------------------------------------------------\n",
        "\n",
        "# initialize cluster map\n",
        "clustermap = folium.Map(location=[39.8097343, -98.5556199], zoom_start=3)\n",
        "\n",
        "# 30% sample of the data (too much data causes crashes due to exceeding RAM limit)\n",
        "df_clustering = df.sample(frac=0.3, random_state=2)\n",
        "\n",
        "coordinates = df[['Latitude', 'Longitude']].values\n",
        "\n",
        "# need a low eps/min_samples to filter out noise, but need it high enough to provide signifiant cluster data\n",
        "dbscan = DBSCAN(eps=0.1, min_samples=20)\n",
        "clusters = dbscan.fit_predict(coordinates)\n",
        "\n",
        "\n",
        "for i, (lat, lon) in enumerate(coordinates):\n",
        "    cluster_id = clusters[i]\n",
        "\n",
        "    # handle noise\n",
        "    if cluster_id == -1:\n",
        "        continue #TOGGLE: Show noise or not\n",
        "        color = 'gray'\n",
        "\n",
        "    else:\n",
        "        # assign a color to cluster\n",
        "        colors = ['blueviolet', 'orangered', 'goldenrod', 'seagreen', 'dodgerblue', 'darkslategrey', 'mediumvioletred']\n",
        "        color = colors[cluster_id % len(colors)]\n",
        "\n",
        "    folium.CircleMarker(location=[lat, lon],\n",
        "                        radius=2,\n",
        "                        color=color,\n",
        "                        fill=True,\n",
        "                        fill_color=color).add_to(clustermap)\n",
        "\n",
        "clustermap"
      ],
      "metadata": {
        "id": "iu6yslolxEb7"
      },
      "execution_count": null,
      "outputs": []
    }
  ]
}